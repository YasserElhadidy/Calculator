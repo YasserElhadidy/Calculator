{
 "cells": [
  {
   "cell_type": "code",
   "execution_count": null,
   "metadata": {},
   "outputs": [],
   "source": [
    "\n",
    "def add(x, y):\n",
    "    return x + y\n",
    "def subtract(x, y):\n",
    "    return x - y\n",
    "def multiply(x, y):\n",
    "    return x * y\n",
    "def divide(x, y):\n",
    "    if y != 0:\n",
    "        return x / y\n",
    "    else:\n",
    "        return \"cant devide by zero\"\n",
    "print(\"chose:\")\n",
    "print(\"1. ADD \")\n",
    "print(\"2. subtract \")\n",
    "print(\"3. multiply \")\n",
    "print(\"4. divide\")\n",
    "\n",
    "choice = input(\"chose from  (1/2/3/4)\")\n",
    "\n",
    "num1 = float(input(\"first numb: \"))\n",
    "num2 = float(input(\"second numb : \"))\n",
    "\n",
    "if choice == '1':\n",
    "    print(f\"result: {add(num1, num2)}\")\n",
    "elif choice == '2':\n",
    "    print(f\"result: {subtract(num1, num2)}\")\n",
    "elif choice == '3':\n",
    "    print(f\"result: {multiply(num1, num2)}\")\n",
    "elif choice == '4':\n",
    "    print(f\"result: {divide(num1, num2)}\")\n",
    "else:\n",
    "    print(\"  wrong chose \")\n"
   ]
  }
 ],
 "metadata": {
  "kernelspec": {
   "display_name": "base",
   "language": "python",
   "name": "python3"
  },
  "language_info": {
   "codemirror_mode": {
    "name": "ipython",
    "version": 3
   },
   "file_extension": ".py",
   "mimetype": "text/x-python",
   "name": "python",
   "nbconvert_exporter": "python",
   "pygments_lexer": "ipython3",
   "version": "3.7.6"
  }
 },
 "nbformat": 4,
 "nbformat_minor": 2
}
